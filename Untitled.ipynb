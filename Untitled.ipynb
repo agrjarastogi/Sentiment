{
 "cells": [
  {
   "cell_type": "code",
   "execution_count": 4,
   "metadata": {},
   "outputs": [],
   "source": [
    "import pandas as pd\n",
    "import numpy as np\n",
    "import matplotlib.pyplot as plt\n",
    "from tensorflow.python.keras import models, layers, optimizers\n",
    "import tensorflow\n",
    "from tensorflow.keras.preprocessing.text import Tokenizer,text_to_word_sequence\n",
    "from tensorflow.keras.preprocessing.sequence import pad_sequences\n",
    "import bz2\n",
    "from sklearn.metrics import f1_score,roc_auc_score, accuracy_score\n",
    "%matplotlib inline\n"
   ]
  },
  {
   "cell_type": "code",
   "execution_count": 8,
   "metadata": {},
   "outputs": [],
   "source": [
    "def labelsandtexts(file):\n",
    "  lab=[]\n",
    "  tex=[]\n",
    "  for li in bz2.BZ2File(file):\n",
    "    d=li.decode(\"utf-8\")\n",
    "    lab.append(int(d[9])-1)\n",
    "    tex.append(d[10:].strip())\n",
    "  return np.array(lab), tex\n",
    "trlab, trtex= labelsandtexts('train.ft.txt.bz2')\n",
    "teslab, testex=labelsandtexts('test.ft.txt.bz2')\n",
    "trlab=trlab[0:500]\n",
    "trtex=trtex[0:500]"
   ]
  },
  {
   "cell_type": "code",
   "execution_count": 9,
   "metadata": {},
   "outputs": [
    {
     "data": {
      "text/plain": [
       "1"
      ]
     },
     "execution_count": 9,
     "metadata": {},
     "output_type": "execute_result"
    }
   ],
   "source": [
    "trlab[0]"
   ]
  },
  {
   "cell_type": "code",
   "execution_count": 10,
   "metadata": {},
   "outputs": [
    {
     "data": {
      "text/plain": [
       "'Stuning even for the non-gamer: This sound track was beautiful! It paints the senery in your mind so well I would recomend it even to people who hate vid. game music! I have played the game Chrono Cross but out of all of the games I have ever played it has the best music! It backs away from crude keyboarding and takes a fresher step with grate guitars and soulful orchestras. It would impress anyone who cares to listen! ^_^'"
      ]
     },
     "execution_count": 10,
     "metadata": {},
     "output_type": "execute_result"
    }
   ],
   "source": [
    "trtex[0]"
   ]
  },
  {
   "cell_type": "code",
   "execution_count": 11,
   "metadata": {},
   "outputs": [],
   "source": [
    "trlab=trlab[0:500]"
   ]
  },
  {
   "cell_type": "code",
   "execution_count": 12,
   "metadata": {},
   "outputs": [],
   "source": [
    "trtex=trtex[0:500]\n"
   ]
  },
  {
   "cell_type": "code",
   "execution_count": 16,
   "metadata": {},
   "outputs": [],
   "source": [
    "import re\n",
    "nonan=re.compile(r'[\\W]')\n",
    "nonas=re.compile(r'[^a-z0-1\\s]')\n",
    "def nort(texts):\n",
    "  nortext=[]\n",
    "  for text in texts:\n",
    "   low=text.lower()\n",
    "   nopunc=nonan.sub(r' ',low)\n",
    "   nononas=nonas.sub(r' ',nopunc)\n",
    "   nortext.append(nononas)\n",
    "  return nortext\n",
    "trtex=nort(trtex)\n",
    "testex=nort(testex)\n"
   ]
  },
  {
   "cell_type": "code",
   "execution_count": 17,
   "metadata": {},
   "outputs": [
    {
     "data": {
      "text/plain": [
       "'stuning even for the non gamer  this sound track was beautiful  it paints the senery in your mind so well i would recomend it even to people who hate vid  game music  i have played the game chrono cross but out of all of the games i have ever played it has the best music  it backs away from crude keyboarding and takes a fresher step with grate guitars and soulful orchestras  it would impress anyone who cares to listen     '"
      ]
     },
     "execution_count": 17,
     "metadata": {},
     "output_type": "execute_result"
    }
   ],
   "source": [
    "trtex[0]"
   ]
  },
  {
   "cell_type": "code",
   "execution_count": 20,
   "metadata": {},
   "outputs": [],
   "source": [
    "from sklearn.feature_extraction.text import CountVectorizer\n",
    "c=CountVectorizer(binary=True)\n",
    "c.fit(trtex)\n",
    "t=c.transform(trtex)\n",
    "ttes=c.transform(testex)"
   ]
  },
  {
   "cell_type": "code",
   "execution_count": 21,
   "metadata": {},
   "outputs": [
    {
     "data": {
      "text/plain": [
       "<400000x5775 sparse matrix of type '<class 'numpy.int64'>'\n",
       "\twith 18645154 stored elements in Compressed Sparse Row format>"
      ]
     },
     "execution_count": 21,
     "metadata": {},
     "output_type": "execute_result"
    }
   ],
   "source": [
    "ttes"
   ]
  },
  {
   "cell_type": "code",
   "execution_count": 33,
   "metadata": {},
   "outputs": [
    {
     "name": "stdout",
     "output_type": "stream",
     "text": [
      "Accuracy for C=0.01: 0.776\n",
      "Accuracy for C=0.05: 0.776\n",
      "Accuracy for C=0.25: 0.752\n",
      "Accuracy for C=0.5: 0.752\n",
      "Accuracy for C=1: 0.76\n"
     ]
    }
   ],
   "source": [
    "from sklearn.linear_model import LogisticRegression\n",
    "from sklearn.metrics import accuracy_score\n",
    "from sklearn.model_selection import train_test_split\n",
    "\n",
    "xtrain, xval, ytrain, yval=train_test_split(\n",
    "    t,trlab,train_size=0.75,stratify=trlab\n",
    ")\n",
    "\n",
    "for ce in [0.01,0.05,0.25,0.5,1]:\n",
    "    l=LogisticRegression(C=ce)\n",
    "    l.fit(xtrain,ytrain)\n",
    "    print(\"Accuracy for C=%s: %s\" \n",
    "          % (ce, accuracy_score(yval, l.predict(xval))))"
   ]
  },
  {
   "cell_type": "code",
   "execution_count": 34,
   "metadata": {},
   "outputs": [
    {
     "data": {
      "text/plain": [
       "array([1, 1, 0, ..., 0, 1, 0])"
      ]
     },
     "execution_count": 34,
     "metadata": {},
     "output_type": "execute_result"
    }
   ],
   "source": [
    "l.predict(ttes)"
   ]
  },
  {
   "cell_type": "code",
   "execution_count": 35,
   "metadata": {},
   "outputs": [
    {
     "data": {
      "text/plain": [
       "0"
      ]
     },
     "execution_count": 35,
     "metadata": {},
     "output_type": "execute_result"
    }
   ],
   "source": [
    "teslab[24]"
   ]
  },
  {
   "cell_type": "code",
   "execution_count": 36,
   "metadata": {},
   "outputs": [
    {
     "data": {
      "text/plain": [
       "'don t take the chance   get the se branded cable  if you purchase this data cable  you need to know that you will receive no real directions or information regarding what to check if nothing works  as directed  i downloaded all of the files from the se site   0mb on dial up    and then downloaded all of the user guides  everything seemed to install ok  but nothing would make my phone be recognized  after that i scoured the se site for troubleshooting info on their branded cable in the hope that something would help me figure out the problem  after   full days of beating my head against the wall  i finally threw the cable and the useless cd that came with it in the trash if i had used my brain i would have paid the extra    for a se branded cable and software  and the support that comes along with that   i now have the real deal  se data cable and software   and guess what  yep  installation was a breeze and it works beautifully  you really do get what you pay for '"
      ]
     },
     "execution_count": 36,
     "metadata": {},
     "output_type": "execute_result"
    }
   ],
   "source": [
    "testex[24]"
   ]
  },
  {
   "cell_type": "code",
   "execution_count": null,
   "metadata": {},
   "outputs": [],
   "source": []
  }
 ],
 "metadata": {
  "kernelspec": {
   "display_name": "Python 3",
   "language": "python",
   "name": "python3"
  },
  "language_info": {
   "codemirror_mode": {
    "name": "ipython",
    "version": 3
   },
   "file_extension": ".py",
   "mimetype": "text/x-python",
   "name": "python",
   "nbconvert_exporter": "python",
   "pygments_lexer": "ipython3",
   "version": "3.7.6"
  }
 },
 "nbformat": 4,
 "nbformat_minor": 4
}
